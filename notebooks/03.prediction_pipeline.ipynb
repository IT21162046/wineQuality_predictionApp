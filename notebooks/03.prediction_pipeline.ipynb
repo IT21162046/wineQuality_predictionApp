{
 "cells": [
  {
   "cell_type": "code",
   "execution_count": 90,
   "id": "548c8052-43e6-46ca-a9be-fed224c793db",
   "metadata": {},
   "outputs": [],
   "source": [
    "import numpy as np\n",
    "import pandas as pd\n",
    "from sklearn.preprocessing import MinMaxScaler\n",
    "import pickle"
   ]
  },
  {
   "cell_type": "code",
   "execution_count": 91,
   "id": "2c2f7edc-561e-45a2-a600-9b833133211b",
   "metadata": {},
   "outputs": [],
   "source": [
    "def make_single_prediction(model, scaler, input_features):\n",
    "    # Create a DataFrame with the input features\n",
    "    input_data = pd.DataFrame(input_features, index=[0])\n",
    "\n",
    "    # Ensure the order of columns matches the model's expectations\n",
    "    input_data = input_data[['type', 'fixed acidity', 'volatile acidity', 'citric acid', 'residual sugar', 'chlorides', 'free sulfur dioxide', 'density', 'pH', 'sulphates', 'alcohol']]\n",
    "\n",
    "    # Normalize the input data using the same MinMaxScaler\n",
    "    input_data_normalized = scaler.transform(input_data)\n",
    "\n",
    "    # Make a prediction\n",
    "    prediction = model.predict(input_data_normalized)\n",
    "\n",
    "    # Map predicted value to labels\n",
    "    prediction_label = 'High Quality Wine' if prediction[0] == 1 else 'Low Quality Wine'\n",
    "\n",
    "    return prediction_label"
   ]
  },
  {
   "cell_type": "code",
   "execution_count": 92,
   "id": "16de9020-1d05-412b-afe8-772268851487",
   "metadata": {},
   "outputs": [],
   "source": [
    "# Load the trained logistic regression model\n",
    "with open('../static/model/model.pickle', 'rb') as file:\n",
    "    logistic_model = pickle.load(file)"
   ]
  },
  {
   "cell_type": "code",
   "execution_count": 93,
   "id": "b7238ce2-b060-4f2b-b46b-52b3270d5aa1",
   "metadata": {},
   "outputs": [],
   "source": [
    "# Load the trained MinMaxScaler\n",
    "with open('../static/model/scaler.pickle', 'rb') as scaler_file:\n",
    "    norm = pickle.load(scaler_file)"
   ]
  },
  {
   "cell_type": "code",
   "execution_count": 94,
   "id": "b51b4c08-78f1-4959-86f8-850904be5147",
   "metadata": {},
   "outputs": [],
   "source": [
    "# User inputs\n",
    "user_inputs = {\n",
    "    'type': 1,\n",
    "    'fixed acidity': 6.6,\n",
    "    'volatile acidity': 0.38,\n",
    "    'citric acid': 0.18,\n",
    "    'residual sugar': 1.2,\n",
    "    'chlorides': 0.042,\n",
    "    'free sulfur dioxide': 20,\n",
    "    'density': 0.9927,\n",
    "    'pH': 3.22,\n",
    "    'sulphates': 0.45,\n",
    "    'alcohol': 10.1\n",
    "}"
   ]
  },
  {
   "cell_type": "code",
   "execution_count": 95,
   "id": "62782368-7e37-4047-a3fd-47c8e997a6a2",
   "metadata": {},
   "outputs": [
    {
     "name": "stdout",
     "output_type": "stream",
     "text": [
      "Predicted Quality: Low Quality Wine\n"
     ]
    }
   ],
   "source": [
    "# Make a prediction for the user inputs\n",
    "prediction = make_single_prediction(logistic_model, norm, user_inputs)\n",
    "print(f\"Predicted Quality: {prediction}\")"
   ]
  },
  {
   "cell_type": "code",
   "execution_count": null,
   "id": "de1d1e12-c8e2-403e-965f-fb138a223624",
   "metadata": {},
   "outputs": [],
   "source": []
  }
 ],
 "metadata": {
  "kernelspec": {
   "display_name": "Python 3 (ipykernel)",
   "language": "python",
   "name": "python3"
  },
  "language_info": {
   "codemirror_mode": {
    "name": "ipython",
    "version": 3
   },
   "file_extension": ".py",
   "mimetype": "text/x-python",
   "name": "python",
   "nbconvert_exporter": "python",
   "pygments_lexer": "ipython3",
   "version": "3.11.2"
  }
 },
 "nbformat": 4,
 "nbformat_minor": 5
}
